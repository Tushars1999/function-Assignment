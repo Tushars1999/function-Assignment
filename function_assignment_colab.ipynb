{
 "cells": [
  {
   "cell_type": "markdown",
   "id": "35281a0a",
   "metadata": {},
   "source": [
    "# Python Functions Assignment\n",
    "Includes theory and practical questions with answers."
   ]
  },
  {
   "cell_type": "markdown",
   "id": "f9ccacdb",
   "metadata": {},
   "source": [
    "### What is the difference between a function and a method in Python?\n",
    "- **Function**: A reusable block of code defined with `def`.\n",
    "- **Method**: A function associated with an object and called using dot notation.\n",
    "\n",
    "```python\n",
    "def greet(name):\n",
    "    return f\"Hello {name}\"\n",
    "\n",
    "message = \"hello\"\n",
    "print(message.upper())  # upper() is a method\n",
    "```"
   ]
  },
  {
   "cell_type": "markdown",
   "id": "4ee4092a",
   "metadata": {},
   "source": [
    "### Explain the concept of function arguments and parameters in Python.\n",
    "- **Parameters**: Defined in the function definition.\n",
    "- **Arguments**: Values passed during the call.\n",
    "\n",
    "```python\n",
    "def add(a, b):  # parameters\n",
    "    return a + b\n",
    "\n",
    "print(add(5, 3))  # arguments\n",
    "```"
   ]
  },
  {
   "cell_type": "markdown",
   "id": "76c9d213",
   "metadata": {},
   "source": [
    "### What are the different ways to define and call a function in Python?\n",
    "You can define with `def` or `lambda` and call using parentheses.\n",
    "\n",
    "```python\n",
    "def square(x):\n",
    "    return x * x\n",
    "\n",
    "result = square(4)\n",
    "```"
   ]
  },
  {
   "cell_type": "markdown",
   "id": "0f705ba4",
   "metadata": {},
   "source": [
    "### What is the purpose of the `return` statement in a Python function?\n",
    "Used to exit a function and return a value.\n",
    "\n",
    "```python\n",
    "def multiply(a, b):\n",
    "    return a * b\n",
    "```"
   ]
  },
  {
   "cell_type": "markdown",
   "id": "3e073dec",
   "metadata": {},
   "source": [
    "### What are iterators in Python and how do they differ from iterables?\n",
    "- **Iterable**: Can return an iterator (like list).\n",
    "- **Iterator**: Implements `__iter__()` and `__next__()`.\n",
    "\n",
    "```python\n",
    "my_list = [1, 2, 3]\n",
    "it = iter(my_list)\n",
    "print(next(it))\n",
    "```"
   ]
  },
  {
   "cell_type": "markdown",
   "id": "4a9b544b",
   "metadata": {},
   "source": [
    "### Explain the concept of generators in Python and how they are defined.\n",
    "Generators yield one value at a time using `yield`.\n",
    "\n",
    "```python\n",
    "def gen():\n",
    "    yield 1\n",
    "    yield 2\n",
    "\n",
    "g = gen()\n",
    "print(next(g))\n",
    "```"
   ]
  },
  {
   "cell_type": "markdown",
   "id": "eef8acf2",
   "metadata": {},
   "source": [
    "### What are the advantages of using generators over regular functions?\n",
    "- Memory efficient\n",
    "- Lazy evaluation\n",
    "- Suitable for large datasets"
   ]
  },
  {
   "cell_type": "markdown",
   "id": "842243cb",
   "metadata": {},
   "source": [
    "### What is a lambda function in Python and when is it typically used?\n",
    "Anonymous single-expression function.\n",
    "\n",
    "```python\n",
    "square = lambda x: x * x\n",
    "print(square(5))\n",
    "```"
   ]
  },
  {
   "cell_type": "markdown",
   "id": "9c496873",
   "metadata": {},
   "source": [
    "### Explain the purpose and usage of the `map()` function in Python.\n",
    "Applies a function to each item in an iterable.\n",
    "\n",
    "```python\n",
    "nums = [1, 2, 3]\n",
    "squared = list(map(lambda x: x*x, nums))\n",
    "```"
   ]
  },
  {
   "cell_type": "markdown",
   "id": "507ab940",
   "metadata": {},
   "source": [
    "### What is the difference between `map()`, `reduce()`, and `filter()`?\n",
    "- `map()`: Transforms elements.\n",
    "- `filter()`: Selects based on condition.\n",
    "- `reduce()`: Reduces to a single value.\n",
    "\n",
    "```python\n",
    "from functools import reduce\n",
    "nums = [1, 2, 3, 4]\n",
    "total = reduce(lambda x, y: x + y, nums)\n",
    "```"
   ]
  },
  {
   "cell_type": "markdown",
   "id": "fc5786ac",
   "metadata": {},
   "source": [
    "### Using reduce on [47,11,42,13]\n",
    "```python\n",
    "from functools import reduce\n",
    "data = [47, 11, 42, 13]\n",
    "result = reduce(lambda x, y: x + y, data)\n",
    "print(result)  # 113\n",
    "```"
   ]
  },
  {
   "cell_type": "code",
   "execution_count": null,
   "id": "77bcd5e5",
   "metadata": {},
   "outputs": [],
   "source": [
    "# Sum of even numbers\n",
    "def sum_even(nums):\n",
    "    return sum(x for x in nums if x % 2 == 0)"
   ]
  },
  {
   "cell_type": "code",
   "execution_count": null,
   "id": "bd89400b",
   "metadata": {},
   "outputs": [],
   "source": [
    "# Reverse a string\n",
    "def reverse_string(s):\n",
    "    return s[::-1]"
   ]
  },
  {
   "cell_type": "code",
   "execution_count": null,
   "id": "adea6772",
   "metadata": {},
   "outputs": [],
   "source": [
    "# Squares of numbers\n",
    "def square_list(lst):\n",
    "    return [x ** 2 for x in lst]"
   ]
  },
  {
   "cell_type": "code",
   "execution_count": null,
   "id": "b869020b",
   "metadata": {},
   "outputs": [],
   "source": [
    "# Prime numbers from 1 to 200\n",
    "def is_prime(n):\n",
    "    if n < 2: return False\n",
    "    for i in range(2, int(n**0.5)+1):\n",
    "        if n % i == 0:\n",
    "            return False\n",
    "    return True\n",
    "\n",
    "primes = [i for i in range(1, 201) if is_prime(i)]\n",
    "print(primes)"
   ]
  },
  {
   "cell_type": "code",
   "execution_count": null,
   "id": "45780038",
   "metadata": {},
   "outputs": [],
   "source": [
    "# Fibonacci Iterator Class\n",
    "class Fibonacci:\n",
    "    def __init__(self, max_terms):\n",
    "        self.max = max_terms\n",
    "        self.a, self.b = 0, 1\n",
    "        self.count = 0\n",
    "\n",
    "    def __iter__(self):\n",
    "        return self\n",
    "\n",
    "    def __next__(self):\n",
    "        if self.count >= self.max:\n",
    "            raise StopIteration\n",
    "        value = self.a\n",
    "        self.a, self.b = self.b, self.a + self.b\n",
    "        self.count += 1\n",
    "        return value"
   ]
  },
  {
   "cell_type": "code",
   "execution_count": null,
   "id": "9af6a484",
   "metadata": {},
   "outputs": [],
   "source": [
    "# Powers of 2 Generator\n",
    "def power_of_two(n):\n",
    "    for i in range(n + 1):\n",
    "        yield 2 ** i"
   ]
  },
  {
   "cell_type": "code",
   "execution_count": null,
   "id": "044df43c",
   "metadata": {},
   "outputs": [],
   "source": [
    "# File Line-by-Line Generator\n",
    "def read_file_lines(filename):\n",
    "    with open(filename) as f:\n",
    "        for line in f:\n",
    "            yield line.strip()"
   ]
  },
  {
   "cell_type": "code",
   "execution_count": null,
   "id": "d29fe803",
   "metadata": {},
   "outputs": [],
   "source": [
    "# Lambda sort by second element\n",
    "data = [(1, 5), (2, 3), (4, 1)]\n",
    "sorted_data = sorted(data, key=lambda x: x[1])\n",
    "print(sorted_data)"
   ]
  },
  {
   "cell_type": "code",
   "execution_count": null,
   "id": "24facafd",
   "metadata": {},
   "outputs": [],
   "source": [
    "# Celsius to Fahrenheit with map\n",
    "celsius = [0, 20, 40]\n",
    "fahrenheit = list(map(lambda c: (c * 9/5) + 32, celsius))\n",
    "print(fahrenheit)"
   ]
  },
  {
   "cell_type": "code",
   "execution_count": null,
   "id": "28e23c7c",
   "metadata": {},
   "outputs": [],
   "source": [
    "# Filter vowels from string\n",
    "s = \"education\"\n",
    "no_vowels = ''.join(filter(lambda x: x.lower() not in \"aeiou\", s))\n",
    "print(no_vowels)"
   ]
  },
  {
   "cell_type": "code",
   "execution_count": null,
   "id": "5117b3df",
   "metadata": {},
   "outputs": [],
   "source": [
    "# Bookstore accounting with lambda and map\n",
    "orders = [\n",
    "    [34587, \"Learning Python\", 4, 40.95],\n",
    "    [98762, \"Programming Java\", 5, 35.99],\n",
    "    [77226, \"Data Science Book\", 3, 65.99],\n",
    "    [88112, \"AI Guide\", 1, 24.99]\n",
    "]\n",
    "\n",
    "result = list(map(lambda x: (x[0], x[2]*x[3] if x[2]*x[3] >= 100 else x[2]*x[3]+10), orders))\n",
    "print(result)"
   ]
  }
 ],
 "metadata": {},
 "nbformat": 4,
 "nbformat_minor": 5
}
